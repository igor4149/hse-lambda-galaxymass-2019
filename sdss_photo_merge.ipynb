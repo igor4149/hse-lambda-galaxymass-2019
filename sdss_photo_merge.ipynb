{
 "cells": [
  {
   "cell_type": "code",
   "execution_count": 1,
   "metadata": {},
   "outputs": [],
   "source": [
    "import numpy as np\n",
    "import pandas as pd\n",
    "import os"
   ]
  },
  {
   "cell_type": "markdown",
   "metadata": {},
   "source": [
    "# Совместим всю фотометрику в одну таблицу и добавим колонку с оптическим цветом"
   ]
  },
  {
   "cell_type": "code",
   "execution_count": 2,
   "metadata": {},
   "outputs": [],
   "source": [
    "photo_data = os.listdir(\"photo_sdss_data\")\n",
    "df = pd.DataFrame()\n",
    "for entry in photo_data:\n",
    "    fname = \"photo_sdss_data/\" + entry\n",
    "    gr = pd.read_csv(fname)\n",
    "    gr['iGrID'] = fname[:-4].split('_')[-1]\n",
    "    df = pd.concat([gr, df]).reset_index(drop=True)\n",
    "df['optic_color'] = np.abs(df['dered_g']-df['dered_r'])"
   ]
  },
  {
   "cell_type": "markdown",
   "metadata": {},
   "source": [
    "# Теперь загрузим все данные из SDSS по группам с $ Ntot > 30$ (они были отфильтрованы так ещё при сохранении)"
   ]
  },
  {
   "cell_type": "code",
   "execution_count": 3,
   "metadata": {},
   "outputs": [],
   "source": [
    "glist_s = pd.read_csv('./glist_s.csv')\n",
    "glist_s.rename(columns={'Name':'objid'}, inplace=True)\n",
    "glist_s['objid'] = glist_s['objid'].apply(lambda x: int(x[2:-1]))\n"
   ]
  },
  {
   "cell_type": "markdown",
   "metadata": {},
   "source": [
    "# Оставим данные по галактикам, которые входят в оба датафрейма и имеют ненулевую dereg_g - dereg_r"
   ]
  },
  {
   "cell_type": "code",
   "execution_count": 4,
   "metadata": {},
   "outputs": [],
   "source": [
    "glist_merged = pd.merge(glist_s, df, on='objid', how='left',suffixes=('_s','_photo'))\n",
    "glist_merged = glist_merged[pd.notnull(glist_merged['optic_color'])]"
   ]
  },
  {
   "cell_type": "code",
   "execution_count": 5,
   "metadata": {},
   "outputs": [
    {
     "name": "stderr",
     "output_type": "stream",
     "text": [
      "/home/igor/anaconda3/lib/python3.6/site-packages/pandas/core/frame.py:3781: SettingWithCopyWarning: \n",
      "A value is trying to be set on a copy of a slice from a DataFrame\n",
      "\n",
      "See the caveats in the documentation: http://pandas.pydata.org/pandas-docs/stable/indexing.html#indexing-view-versus-copy\n",
      "  return super(DataFrame, self).rename(**kwargs)\n"
     ]
    }
   ],
   "source": [
    "z_photo = glist_merged[['objid', 'ra', 'dec','z_gal','optic_color','iGrID_photo']]\n",
    "z_photo.rename(columns={'iGrID_photo':'iGrID'}, inplace=True)"
   ]
  },
  {
   "cell_type": "code",
   "execution_count": 6,
   "metadata": {},
   "outputs": [
    {
     "data": {
      "text/html": [
       "<div>\n",
       "<style scoped>\n",
       "    .dataframe tbody tr th:only-of-type {\n",
       "        vertical-align: middle;\n",
       "    }\n",
       "\n",
       "    .dataframe tbody tr th {\n",
       "        vertical-align: top;\n",
       "    }\n",
       "\n",
       "    .dataframe thead th {\n",
       "        text-align: right;\n",
       "    }\n",
       "</style>\n",
       "<table border=\"1\" class=\"dataframe\">\n",
       "  <thead>\n",
       "    <tr style=\"text-align: right;\">\n",
       "      <th></th>\n",
       "      <th>objid</th>\n",
       "      <th>ra</th>\n",
       "      <th>dec</th>\n",
       "      <th>z_gal</th>\n",
       "      <th>optic_color</th>\n",
       "      <th>iGrID</th>\n",
       "    </tr>\n",
       "  </thead>\n",
       "  <tbody>\n",
       "    <tr>\n",
       "      <th>1</th>\n",
       "      <td>1237651225709576232</td>\n",
       "      <td>259.240503</td>\n",
       "      <td>57.480007</td>\n",
       "      <td>0.028285</td>\n",
       "      <td>0.69299</td>\n",
       "      <td>51</td>\n",
       "    </tr>\n",
       "    <tr>\n",
       "      <th>3</th>\n",
       "      <td>1237651225172771115</td>\n",
       "      <td>258.607534</td>\n",
       "      <td>57.154777</td>\n",
       "      <td>0.029271</td>\n",
       "      <td>0.65348</td>\n",
       "      <td>51</td>\n",
       "    </tr>\n",
       "    <tr>\n",
       "      <th>4</th>\n",
       "      <td>1237651212287738211</td>\n",
       "      <td>258.724686</td>\n",
       "      <td>57.462433</td>\n",
       "      <td>0.029612</td>\n",
       "      <td>0.43636</td>\n",
       "      <td>51</td>\n",
       "    </tr>\n",
       "    <tr>\n",
       "      <th>5</th>\n",
       "      <td>1237651212287738237</td>\n",
       "      <td>258.628668</td>\n",
       "      <td>57.430487</td>\n",
       "      <td>0.030457</td>\n",
       "      <td>0.11510</td>\n",
       "      <td>51</td>\n",
       "    </tr>\n",
       "    <tr>\n",
       "      <th>6</th>\n",
       "      <td>1237651212287738259</td>\n",
       "      <td>258.891623</td>\n",
       "      <td>57.450273</td>\n",
       "      <td>0.030010</td>\n",
       "      <td>0.77901</td>\n",
       "      <td>51</td>\n",
       "    </tr>\n",
       "    <tr>\n",
       "      <th>7</th>\n",
       "      <td>1237651225172770970</td>\n",
       "      <td>258.619935</td>\n",
       "      <td>57.249860</td>\n",
       "      <td>0.028236</td>\n",
       "      <td>0.51583</td>\n",
       "      <td>51</td>\n",
       "    </tr>\n",
       "    <tr>\n",
       "      <th>10</th>\n",
       "      <td>1237651212287803711</td>\n",
       "      <td>258.811845</td>\n",
       "      <td>57.382188</td>\n",
       "      <td>0.025598</td>\n",
       "      <td>0.74364</td>\n",
       "      <td>51</td>\n",
       "    </tr>\n",
       "    <tr>\n",
       "      <th>11</th>\n",
       "      <td>1237651212287803641</td>\n",
       "      <td>258.947525</td>\n",
       "      <td>57.301870</td>\n",
       "      <td>0.026489</td>\n",
       "      <td>0.78801</td>\n",
       "      <td>51</td>\n",
       "    </tr>\n",
       "    <tr>\n",
       "      <th>14</th>\n",
       "      <td>1237651212287803549</td>\n",
       "      <td>258.852002</td>\n",
       "      <td>57.322507</td>\n",
       "      <td>0.029370</td>\n",
       "      <td>0.96047</td>\n",
       "      <td>51</td>\n",
       "    </tr>\n",
       "    <tr>\n",
       "      <th>15</th>\n",
       "      <td>1237651225172640033</td>\n",
       "      <td>258.492818</td>\n",
       "      <td>57.486888</td>\n",
       "      <td>0.030262</td>\n",
       "      <td>0.32741</td>\n",
       "      <td>51</td>\n",
       "    </tr>\n",
       "  </tbody>\n",
       "</table>\n",
       "</div>"
      ],
      "text/plain": [
       "                  objid          ra        dec     z_gal  optic_color iGrID\n",
       "1   1237651225709576232  259.240503  57.480007  0.028285      0.69299    51\n",
       "3   1237651225172771115  258.607534  57.154777  0.029271      0.65348    51\n",
       "4   1237651212287738211  258.724686  57.462433  0.029612      0.43636    51\n",
       "5   1237651212287738237  258.628668  57.430487  0.030457      0.11510    51\n",
       "6   1237651212287738259  258.891623  57.450273  0.030010      0.77901    51\n",
       "7   1237651225172770970  258.619935  57.249860  0.028236      0.51583    51\n",
       "10  1237651212287803711  258.811845  57.382188  0.025598      0.74364    51\n",
       "11  1237651212287803641  258.947525  57.301870  0.026489      0.78801    51\n",
       "14  1237651212287803549  258.852002  57.322507  0.029370      0.96047    51\n",
       "15  1237651225172640033  258.492818  57.486888  0.030262      0.32741    51"
      ]
     },
     "execution_count": 6,
     "metadata": {},
     "output_type": "execute_result"
    }
   ],
   "source": [
    "z_photo.head(10)"
   ]
  },
  {
   "cell_type": "code",
   "execution_count": 7,
   "metadata": {},
   "outputs": [],
   "source": [
    "z_photo.to_csv(\"z_photo_data.csv\", index=False)"
   ]
  },
  {
   "cell_type": "code",
   "execution_count": null,
   "metadata": {},
   "outputs": [],
   "source": []
  }
 ],
 "metadata": {
  "kernelspec": {
   "display_name": "Python 3",
   "language": "python",
   "name": "python3"
  },
  "language_info": {
   "codemirror_mode": {
    "name": "ipython",
    "version": 3
   },
   "file_extension": ".py",
   "mimetype": "text/x-python",
   "name": "python",
   "nbconvert_exporter": "python",
   "pygments_lexer": "ipython3",
   "version": "3.6.6"
  }
 },
 "nbformat": 4,
 "nbformat_minor": 2
}
