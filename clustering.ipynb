{
 "cells": [
  {
   "cell_type": "code",
   "execution_count": 1,
   "metadata": {},
   "outputs": [],
   "source": [
    "import numpy as np\n",
    "import pandas as pd\n",
    "df = pd.read_csv(\"z_photo_data.csv\").drop(columns=['z_gal'])"
   ]
  },
  {
   "cell_type": "code",
   "execution_count": 2,
   "metadata": {},
   "outputs": [
    {
     "data": {
      "text/plain": [
       "479"
      ]
     },
     "execution_count": 2,
     "metadata": {},
     "output_type": "execute_result"
    }
   ],
   "source": [
    "df.iGrID.nunique()"
   ]
  },
  {
   "cell_type": "markdown",
   "metadata": {},
   "source": [
    "# Наша цель - кластеризовать галактики, используя только фотометрические данные (optic_color a.k.a. |dered_g - dered_r|, ra, dec). В качестве ground truth будет выступать iGrID. Нам нужно получить 479 кластеров."
   ]
  },
  {
   "cell_type": "code",
   "execution_count": 3,
   "metadata": {},
   "outputs": [],
   "source": [
    "train = df[['ra','dec','optic_color']]"
   ]
  },
  {
   "cell_type": "markdown",
   "metadata": {},
   "source": [
    "# Попробуем перебрать несколько алгоритмов кластеризации. Для оценки будем использовать V-measure и Fowlkes-Mallows score.\n",
    "## Параметры были оптимально подобраны заранее"
   ]
  },
  {
   "cell_type": "code",
   "execution_count": 4,
   "metadata": {},
   "outputs": [],
   "source": [
    "from sklearn import cluster\n",
    "from sklearn.metrics import homogeneity_completeness_v_measure, fowlkes_mallows_score\n",
    "\n",
    "def eval(name, pred):\n",
    "    print(name)\n",
    "    print(\"Homogeneity: %.3f \\nCompleteness: %.3f \\nV-measure: %.3f\" % homogeneity_completeness_v_measure(df.iGrID, pred))\n",
    "    print(\"Fowlkes-Mallows score: %.3f\" % fowlkes_mallows_score(df.iGrID, pred))"
   ]
  },
  {
   "cell_type": "code",
   "execution_count": 5,
   "metadata": {},
   "outputs": [
    {
     "name": "stdout",
     "output_type": "stream",
     "text": [
      "KMeans\n",
      "Homogeneity: 0.975 \n",
      "Completeness: 0.958 \n",
      "V-measure: 0.966\n",
      "Fowlkes-Mallows score: 0.659\n"
     ]
    }
   ],
   "source": [
    "from sklearn import cluster\n",
    "from sklearn.metrics import homogeneity_completeness_v_measure, fowlkes_mallows_score\n",
    "\n",
    "k_means = cluster.KMeans(n_clusters=479)\n",
    "pred = k_means.fit_predict(train)\n",
    "eval(\"K-Means\", pred)"
   ]
  },
  {
   "cell_type": "code",
   "execution_count": 13,
   "metadata": {},
   "outputs": [
    {
     "name": "stdout",
     "output_type": "stream",
     "text": [
      "Mean Shift\n",
      "Homogeneity: 0.982 \n",
      "Completeness: 0.951 \n",
      "V-measure: 0.966\n",
      "Fowlkes-Mallows score: 0.705\n"
     ]
    }
   ],
   "source": [
    "bandwidth =  cluster.estimate_bandwidth(train, quantile=0.001)\n",
    "ms = cluster.MeanShift(bandwidth=bandwidth, bin_seeding=True)\n",
    "pred = ms.fit_predict(train)\n",
    "eval(\"Mean Shift\", pred)"
   ]
  },
  {
   "cell_type": "code",
   "execution_count": 19,
   "metadata": {},
   "outputs": [
    {
     "name": "stdout",
     "output_type": "stream",
     "text": [
      "DBSCAN\n",
      "Homogeneity: 0.958 \n",
      "Completeness: 0.989 \n",
      "V-measure: 0.973\n",
      "Fowlkes-Mallows score: 0.814\n"
     ]
    }
   ],
   "source": [
    "dbscan = cluster.DBSCAN(eps=0.4)\n",
    "pred = dbscan.fit_predict(train)\n",
    "eval(\"DBSCAN\", pred)"
   ]
  },
  {
   "cell_type": "code",
   "execution_count": 20,
   "metadata": {},
   "outputs": [
    {
     "name": "stdout",
     "output_type": "stream",
     "text": [
      "BIRCH\n",
      "Homogeneity: 0.965 \n",
      "Completeness: 0.962 \n",
      "V-measure: 0.963\n",
      "Fowlkes-Mallows score: 0.667\n"
     ]
    }
   ],
   "source": [
    "birch = cluster.Birch(n_clusters=479)\n",
    "pred = birch.fit_predict(train)\n",
    "eval(\"BIRCH\", pred)"
   ]
  },
  {
   "cell_type": "code",
   "execution_count": null,
   "metadata": {},
   "outputs": [],
   "source": []
  }
 ],
 "metadata": {
  "kernelspec": {
   "display_name": "Python 3",
   "language": "python",
   "name": "python3"
  },
  "language_info": {
   "codemirror_mode": {
    "name": "ipython",
    "version": 3
   },
   "file_extension": ".py",
   "mimetype": "text/x-python",
   "name": "python",
   "nbconvert_exporter": "python",
   "pygments_lexer": "ipython3",
   "version": "3.6.6"
  }
 },
 "nbformat": 4,
 "nbformat_minor": 2
}
